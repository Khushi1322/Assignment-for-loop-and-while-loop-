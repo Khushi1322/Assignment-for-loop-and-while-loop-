{
 "cells": [
  {
   "cell_type": "markdown",
   "id": "7d5493da-a849-4a0a-80d1-c1235960179b",
   "metadata": {},
   "source": [
    "Q1: Explain with an example each when to use a for loop and a while loop"
   ]
  },
  {
   "cell_type": "code",
   "execution_count": 8,
   "id": "4b5bda64-9d7f-44d9-b8c6-bd8d4615c3f2",
   "metadata": {},
   "outputs": [
    {
     "name": "stdout",
     "output_type": "stream",
     "text": [
      "0\n",
      "1\n",
      "1\n",
      "2\n",
      "3\n",
      "5\n",
      "8\n",
      "13\n",
      "21\n",
      "34\n",
      "55\n"
     ]
    }
   ],
   "source": [
    "#  using for loop\n",
    "a,b=0,1\n",
    "for i in range(11):\n",
    "    print(a)\n",
    "    c=a+b \n",
    "    a=b\n",
    "    b=c"
   ]
  },
  {
   "cell_type": "code",
   "execution_count": 3,
   "id": "d2f612a7-3c6c-4f5c-8ee8-1c0d0a6e33c0",
   "metadata": {},
   "outputs": [
    {
     "name": "stdin",
     "output_type": "stream",
     "text": [
      "enter your number 10\n"
     ]
    },
    {
     "name": "stdout",
     "output_type": "stream",
     "text": [
      "0\n",
      "1\n",
      "1\n",
      "2\n",
      "3\n",
      "5\n",
      "8\n",
      "13\n",
      "21\n",
      "34\n",
      "55\n"
     ]
    }
   ],
   "source": [
    "# using while loop\n",
    "n=int(input('enter your number'))\n",
    "a,b=0,1\n",
    "counter=0\n",
    "while counter<= 10:\n",
    "    print(a)\n",
    "    c=a+b\n",
    "    a=b\n",
    "    b=c\n",
    "    counter=counter+1\n",
    "\n"
   ]
  },
  {
   "cell_type": "markdown",
   "id": "b179a88b-b19f-46f4-9527-055cf0c4e596",
   "metadata": {},
   "source": [
    "Q2: Write a python program to print the sum and the product of the first 10 natural numbers\n",
    "using for and while loop."
   ]
  },
  {
   "cell_type": "code",
   "execution_count": 6,
   "id": "400982ac-25aa-49ea-b595-04ced471ba4f",
   "metadata": {},
   "outputs": [
    {
     "data": {
      "text/plain": [
       "55"
      ]
     },
     "execution_count": 6,
     "metadata": {},
     "output_type": "execute_result"
    }
   ],
   "source": [
    "result=0\n",
    "for i in range(1,11,1):\n",
    "    result=result+i\n",
    "result    \n",
    "    "
   ]
  },
  {
   "cell_type": "code",
   "execution_count": 7,
   "id": "b8a985b3-c08f-4f8b-a07e-06e2e1e4068f",
   "metadata": {},
   "outputs": [
    {
     "data": {
      "text/plain": [
       "3628800"
      ]
     },
     "execution_count": 7,
     "metadata": {},
     "output_type": "execute_result"
    }
   ],
   "source": [
    "result=1\n",
    "for i in range(1,11,1):\n",
    "    result=result*i\n",
    "result    "
   ]
  },
  {
   "cell_type": "code",
   "execution_count": 8,
   "id": "6c0f4caf-ffbe-4bc2-80ad-fb0aa2706e08",
   "metadata": {},
   "outputs": [
    {
     "name": "stdin",
     "output_type": "stream",
     "text": [
      "enter your number 10\n"
     ]
    },
    {
     "data": {
      "text/plain": [
       "55"
      ]
     },
     "execution_count": 8,
     "metadata": {},
     "output_type": "execute_result"
    }
   ],
   "source": [
    "n=int(input('enter your number'))\n",
    "starting_point=0\n",
    "counter=1\n",
    "while counter<=10:\n",
    "    starting_point=starting_point+counter\n",
    "    counter=counter+1\n",
    "starting_point    "
   ]
  },
  {
   "cell_type": "code",
   "execution_count": 10,
   "id": "8d996522-1f3e-4403-94d2-84055143d403",
   "metadata": {},
   "outputs": [
    {
     "name": "stdin",
     "output_type": "stream",
     "text": [
      "enter your number 10\n"
     ]
    },
    {
     "data": {
      "text/plain": [
       "3628800"
      ]
     },
     "execution_count": 10,
     "metadata": {},
     "output_type": "execute_result"
    }
   ],
   "source": [
    "n=int(input('enter your number'))\n",
    "starting_point=1\n",
    "counter=1\n",
    "while counter<=10:\n",
    "    starting_point=starting_point*counter\n",
    "    counter=counter+1\n",
    "starting_point    "
   ]
  },
  {
   "cell_type": "markdown",
   "id": "61af6f56-1c6e-404f-9637-3274d4d86faa",
   "metadata": {},
   "source": [
    "Q4: creat a list of numbers from 1 to 100 use for loop and while loop to calculate the cube of each numbers\n",
    "and if cube of that number is divisible by 4 or 5 then append that number in a list and print that list."
   ]
  },
  {
   "cell_type": "code",
   "execution_count": 1,
   "id": "2877f7d2-b2ea-4326-b667-29021670e756",
   "metadata": {},
   "outputs": [],
   "source": [
    "l1=[]\n",
    "for i in range(1,101,1):\n",
    "    if i**3%4==0 or i**3%5==0:\n",
    "        l1.append(i)"
   ]
  },
  {
   "cell_type": "code",
   "execution_count": 2,
   "id": "57ef9185-bc69-49fd-9e41-832729b1583a",
   "metadata": {},
   "outputs": [
    {
     "data": {
      "text/plain": [
       "[2,\n",
       " 4,\n",
       " 5,\n",
       " 6,\n",
       " 8,\n",
       " 10,\n",
       " 12,\n",
       " 14,\n",
       " 15,\n",
       " 16,\n",
       " 18,\n",
       " 20,\n",
       " 22,\n",
       " 24,\n",
       " 25,\n",
       " 26,\n",
       " 28,\n",
       " 30,\n",
       " 32,\n",
       " 34,\n",
       " 35,\n",
       " 36,\n",
       " 38,\n",
       " 40,\n",
       " 42,\n",
       " 44,\n",
       " 45,\n",
       " 46,\n",
       " 48,\n",
       " 50,\n",
       " 52,\n",
       " 54,\n",
       " 55,\n",
       " 56,\n",
       " 58,\n",
       " 60,\n",
       " 62,\n",
       " 64,\n",
       " 65,\n",
       " 66,\n",
       " 68,\n",
       " 70,\n",
       " 72,\n",
       " 74,\n",
       " 75,\n",
       " 76,\n",
       " 78,\n",
       " 80,\n",
       " 82,\n",
       " 84,\n",
       " 85,\n",
       " 86,\n",
       " 88,\n",
       " 90,\n",
       " 92,\n",
       " 94,\n",
       " 95,\n",
       " 96,\n",
       " 98,\n",
       " 100]"
      ]
     },
     "execution_count": 2,
     "metadata": {},
     "output_type": "execute_result"
    }
   ],
   "source": [
    "l1"
   ]
  },
  {
   "cell_type": "markdown",
   "id": "e1a66c44-c5f4-47da-b9c8-62892121fd3b",
   "metadata": {
    "tags": []
   },
   "source": [
    "Q5: write a programm to filter count vowels in the below given string.\n",
    "   string='i want to bec0me a data scientist'\n"
   ]
  },
  {
   "cell_type": "code",
   "execution_count": 4,
   "id": "0eb2dfe4-91ba-45cb-a7b2-5f543893df42",
   "metadata": {},
   "outputs": [],
   "source": [
    "s='i want to become a data scientist'"
   ]
  },
  {
   "cell_type": "code",
   "execution_count": 5,
   "id": "6f7b71ba-1f8f-4ebe-9ca1-0146990b7b71",
   "metadata": {},
   "outputs": [],
   "source": [
    "l=[]\n",
    "for i in s:\n",
    "    if i=='a' or i=='e' or i=='i' or i=='o' or i=='u':\n",
    "        l.append(i)\n",
    "        \n",
    "        "
   ]
  },
  {
   "cell_type": "code",
   "execution_count": 6,
   "id": "c3a5d188-a3f8-4b5e-b98c-9afede7c136a",
   "metadata": {},
   "outputs": [
    {
     "data": {
      "text/plain": [
       "['i', 'a', 'o', 'e', 'o', 'e', 'a', 'a', 'a', 'i', 'e', 'i']"
      ]
     },
     "execution_count": 6,
     "metadata": {},
     "output_type": "execute_result"
    }
   ],
   "source": [
    "l"
   ]
  },
  {
   "cell_type": "code",
   "execution_count": 7,
   "id": "6143f9c9-37d9-4534-933d-aee91361c1de",
   "metadata": {},
   "outputs": [
    {
     "data": {
      "text/plain": [
       "12"
      ]
     },
     "execution_count": 7,
     "metadata": {},
     "output_type": "execute_result"
    }
   ],
   "source": [
    "len(l)"
   ]
  },
  {
   "cell_type": "code",
   "execution_count": null,
   "id": "7b1c3b15-5e30-4cbe-9d1e-2cdfda2538a9",
   "metadata": {},
   "outputs": [],
   "source": []
  }
 ],
 "metadata": {
  "kernelspec": {
   "display_name": "Python 3 (ipykernel)",
   "language": "python",
   "name": "python3"
  },
  "language_info": {
   "codemirror_mode": {
    "name": "ipython",
    "version": 3
   },
   "file_extension": ".py",
   "mimetype": "text/x-python",
   "name": "python",
   "nbconvert_exporter": "python",
   "pygments_lexer": "ipython3",
   "version": "3.10.8"
  }
 },
 "nbformat": 4,
 "nbformat_minor": 5
}
